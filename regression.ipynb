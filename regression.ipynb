{
 "cells": [
  {
   "cell_type": "code",
   "execution_count": 1,
   "metadata": {},
   "outputs": [
    {
     "name": "stdout",
     "output_type": "stream",
     "text": [
      "Model: \"model\"\n",
      "_________________________________________________________________\n",
      "Layer (type)                 Output Shape              Param #   \n",
      "=================================================================\n",
      "x_1 (InputLayer)             [(None, 10)]              0         \n",
      "_________________________________________________________________\n",
      "batch_normalization (BatchNo (None, 10)                40        \n",
      "_________________________________________________________________\n",
      "dense (Dense)                (None, 30)                330       \n",
      "_________________________________________________________________\n",
      "batch_normalization_1 (Batch (None, 30)                120       \n",
      "_________________________________________________________________\n",
      "dense_1 (Dense)              (None, 20)                620       \n",
      "_________________________________________________________________\n",
      "batch_normalization_2 (Batch (None, 20)                80        \n",
      "_________________________________________________________________\n",
      "dense_2 (Dense)              (None, 1)                 21        \n",
      "=================================================================\n",
      "Total params: 1,211\n",
      "Trainable params: 1,091\n",
      "Non-trainable params: 120\n",
      "_________________________________________________________________\n"
     ]
    }
   ],
   "source": [
    "from sklearn import datasets\n",
    "import tensorflow as tf\n",
    "import matplotlib.pyplot as plt\n",
    "from tensorflow import keras\n",
    "from tensorflow.keras import layers\n",
    "import numpy as np\n",
    "X,y = datasets.load_diabetes(return_X_y=True)\n",
    "x_1 = keras.Input(shape=(len(X[0]),), name='x_1')\n",
    "b0=tf.keras.layers.BatchNormalization(\n",
    "    axis=-1, momentum=0.99, epsilon=0.001, center=True, scale=True,\n",
    "    beta_initializer='zeros', gamma_initializer='ones',\n",
    "    moving_mean_initializer='zeros',\n",
    "    moving_variance_initializer='ones', beta_regularizer=None,\n",
    "    gamma_regularizer=None, beta_constraint=None, gamma_constraint=None\n",
    ")(x_1)\n",
    "h1_1 = layers.Dense(30, activation='relu')(b0)\n",
    "b1=tf.keras.layers.BatchNormalization(\n",
    "    axis=-1, momentum=0.99, epsilon=0.001, center=True, scale=True,\n",
    "    beta_initializer='zeros', gamma_initializer='ones',\n",
    "    moving_mean_initializer='zeros',\n",
    "    moving_variance_initializer='ones', beta_regularizer=None,\n",
    "    gamma_regularizer=None, beta_constraint=None, gamma_constraint=None\n",
    ")(h1_1)\n",
    "h1_2 = layers.Dense(20, activation='relu')(b1)\n",
    "b2=tf.keras.layers.BatchNormalization(\n",
    "    axis=-1, momentum=0.99, epsilon=0.001, center=True, scale=True,\n",
    "    beta_initializer='zeros', gamma_initializer='ones',\n",
    "    moving_mean_initializer='zeros',\n",
    "    moving_variance_initializer='ones', beta_regularizer=None,\n",
    "    gamma_regularizer=None, beta_constraint=None, gamma_constraint=None\n",
    ")(h1_2)\n",
    "h1_3 = layers.Dense(1, activation='linear')(b2)\n",
    "model = keras.Model(inputs=[x_1], outputs=h1_3)\n",
    "model.summary()"
   ]
  },
  {
   "cell_type": "code",
   "execution_count": 2,
   "metadata": {},
   "outputs": [
    {
     "data": {
      "image/png": "[encoded data removed]",
      "text/plain": [
       "<Figure size 432x288 with 1 Axes>"
      ]
     },
     "metadata": {
      "needs_background": "light"
     },
     "output_type": "display_data"
    }
   ],
   "source": [
    "model.compile(optimizer='adam',loss=tf.keras.losses.Huber(delta=10))\n",
    "history = model.fit(X,y,batch_size=60,epochs=900,verbose=0)\n",
    "plt.plot(history.history['loss'])\n",
    "plt.show()"
   ]
  },
  {
   "cell_type": "code",
   "execution_count": 3,
   "metadata": {},
   "outputs": [],
   "source": [
    "yp=model.predict(X)"
   ]
  },
  {
   "cell_type": "code",
   "execution_count": 4,
   "metadata": {},
   "outputs": [
    {
     "name": "stdout",
     "output_type": "stream",
     "text": [
      "看似有一定程度的相關性\n"
     ]
    },
    {
     "data": {
      "image/png": "[encoded data removed]",
      "text/plain": [
       "<Figure size 432x288 with 1 Axes>"
      ]
     },
     "metadata": {
      "needs_background": "light"
     },
     "output_type": "display_data"
    }
   ],
   "source": [
    "plt.scatter(y,yp)\n",
    "plt.show\n",
    "print(\"看似有一定程度的相關性\")"
   ]
  },
  {
   "cell_type": "code",
   "execution_count": 5,
   "metadata": {},
   "outputs": [
    {
     "name": "stdout",
     "output_type": "stream",
     "text": [
      "我們將血壓資料進行刪除\n"
     ]
    }
   ],
   "source": [
    "print(\"我們將血壓資料進行刪除\")\n",
    "nbX=[]\n",
    "for i in X:\n",
    "    nbX.append(np.delete(i,3))\n",
    "nbX=np.array(nbX)"
   ]
  },
  {
   "cell_type": "code",
   "execution_count": 6,
   "metadata": {},
   "outputs": [
    {
     "name": "stdout",
     "output_type": "stream",
     "text": [
      "Model: \"model_1\"\n",
      "_________________________________________________________________\n",
      "Layer (type)                 Output Shape              Param #   \n",
      "=================================================================\n",
      "x_2 (InputLayer)             [(None, 9)]               0         \n",
      "_________________________________________________________________\n",
      "batch_normalization_3 (Batch (None, 9)                 36        \n",
      "_________________________________________________________________\n",
      "dense_3 (Dense)              (None, 30)                300       \n",
      "_________________________________________________________________\n",
      "batch_normalization_4 (Batch (None, 30)                120       \n",
      "_________________________________________________________________\n",
      "dense_4 (Dense)              (None, 20)                620       \n",
      "_________________________________________________________________\n",
      "batch_normalization_5 (Batch (None, 20)                80        \n",
      "_________________________________________________________________\n",
      "dense_5 (Dense)              (None, 1)                 21        \n",
      "=================================================================\n",
      "Total params: 1,177\n",
      "Trainable params: 1,059\n",
      "Non-trainable params: 118\n",
      "_________________________________________________________________\n"
     ]
    }
   ],
   "source": [
    "x_2 = keras.Input(shape=(len(nbX[0]),), name='x_2')\n",
    "b_0=tf.keras.layers.BatchNormalization(\n",
    "    axis=-1, momentum=0.99, epsilon=0.001, center=True, scale=True,\n",
    "    beta_initializer='zeros', gamma_initializer='ones',\n",
    "    moving_mean_initializer='zeros',\n",
    "    moving_variance_initializer='ones', beta_regularizer=None,\n",
    "    gamma_regularizer=None, beta_constraint=None, gamma_constraint=None\n",
    ")(x_2)\n",
    "h2_1 = layers.Dense(30, activation='relu')(b_0)\n",
    "b_1=tf.keras.layers.BatchNormalization(\n",
    "    axis=-1, momentum=0.99, epsilon=0.001, center=True, scale=True,\n",
    "    beta_initializer='zeros', gamma_initializer='ones',\n",
    "    moving_mean_initializer='zeros',\n",
    "    moving_variance_initializer='ones', beta_regularizer=None,\n",
    "    gamma_regularizer=None, beta_constraint=None, gamma_constraint=None\n",
    ")(h2_1)\n",
    "h2_2 = layers.Dense(20, activation='relu')(b_1)\n",
    "b_2=tf.keras.layers.BatchNormalization(\n",
    "    axis=-1, momentum=0.99, epsilon=0.001, center=True, scale=True,\n",
    "    beta_initializer='zeros', gamma_initializer='ones',\n",
    "    moving_mean_initializer='zeros',\n",
    "    moving_variance_initializer='ones', beta_regularizer=None,\n",
    "    gamma_regularizer=None, beta_constraint=None, gamma_constraint=None\n",
    ")(h2_2)\n",
    "h2_3 = layers.Dense(1, activation='linear')(b_2)\n",
    "model2 = keras.Model(inputs=[x_2], outputs=h2_3)\n",
    "model2.summary()"
   ]
  },
  {
   "cell_type": "code",
   "execution_count": 7,
   "metadata": {},
   "outputs": [
    {
     "data": {
      "image/png": "[encoded data removed]",
      "text/plain": [
       "<Figure size 432x288 with 1 Axes>"
      ]
     },
     "metadata": {
      "needs_background": "light"
     },
     "output_type": "display_data"
    }
   ],
   "source": [
    "model2.compile(optimizer='adam',loss=tf.keras.losses.Huber(delta=10))\n",
    "history = model2.fit(nbX,y,batch_size=60,epochs=900, verbose=0)\n",
    "plt.plot(history.history['loss'])\n",
    "plt.show()"
   ]
  },
  {
   "cell_type": "code",
   "execution_count": 8,
   "metadata": {},
   "outputs": [],
   "source": [
    "nyp=model2.predict(nbX)"
   ]
  },
  {
   "cell_type": "code",
   "execution_count": 9,
   "metadata": {},
   "outputs": [
    {
     "name": "stdout",
     "output_type": "stream",
     "text": [
      "可明顯看出沒有血壓的資料相關性較低\n"
     ]
    },
    {
     "data": {
      "image/png": "[encoded data removed]",
      "text/plain": [
       "<Figure size 432x288 with 1 Axes>"
      ]
     },
     "metadata": {
      "needs_background": "light"
     },
     "output_type": "display_data"
    }
   ],
   "source": [
    "plt.scatter(y,nyp)\n",
    "plt.show\n",
    "print(\"可明顯看出沒有血壓的資料相關性較低\")"
   ]
  },
  {
   "cell_type": "code",
   "execution_count": 10,
   "metadata": {},
   "outputs": [
    {
     "name": "stdout",
     "output_type": "stream",
     "text": [
      "將兩圖放在一起比較\n"
     ]
    },
    {
     "data": {
      "text/plain": [
       "<function matplotlib.pyplot.show(close=None, block=None)>"
      ]
     },
     "execution_count": 10,
     "metadata": {},
     "output_type": "execute_result"
    },
    {
     "data": {
      "image/png": "[encoded data removed]",
      "text/plain": [
       "<Figure size 432x288 with 2 Axes>"
      ]
     },
     "metadata": {
      "needs_background": "light"
     },
     "output_type": "display_data"
    }
   ],
   "source": [
    "print(\"將兩圖放在一起比較\")\n",
    "plt.figure()\n",
    "plt.subplot(1,2,1)\n",
    "plt.title(\"have blood pressure\")\n",
    "plt.plot([50,350],[50,350],'r')\n",
    "plt.scatter(y,yp)\n",
    "plt.subplot(1,2,2)\n",
    "plt.title(\"no blood pressure\")\n",
    "plt.plot([50,350],[50,350],'r')\n",
    "plt.scatter(y,nyp)\n",
    "plt.show"
   ]
  },
  {
   "cell_type": "code",
   "execution_count": 11,
   "metadata": {},
   "outputs": [
    {
     "name": "stdout",
     "output_type": "stream",
     "text": [
      "含血壓資料之mean_squared_error: 1154.9318322003598\n",
      "無血壓資料之mean_squared_error: 1768.8766840230169\n"
     ]
    }
   ],
   "source": [
    "from sklearn.metrics import mean_squared_error\n",
    "from sklearn.model_selection import KFold\n",
    "havebp=0\n",
    "nobp=0\n",
    "kf=KFold(n_splits=10,shuffle=True)\n",
    "for train_index,test_index in kf.split(X):\n",
    "    X_train,X_test=X[train_index],X[test_index]\n",
    "    y_train,y_test=y[train_index],y[test_index]\n",
    "    model.fit(X_train,y_train,batch_size=60,epochs=900, verbose=0)\n",
    "    yp=model.predict(X_test)\n",
    "    havebp+=mean_squared_error(y_test,yp)\n",
    "for train_index,test_index in kf.split(nbX):\n",
    "    X_train,X_test=nbX[train_index],nbX[test_index]\n",
    "    y_train,y_test=y[train_index],y[test_index]\n",
    "    model2.fit(X_train,y_train,batch_size=60,epochs=900, verbose=0)\n",
    "    nyp=model2.predict(X_test)\n",
    "    nobp+=mean_squared_error(y_test,nyp)\n",
    "havebp/=10\n",
    "nobp/=10\n",
    "print(\"含血壓資料之mean_squared_error:\",havebp)\n",
    "print(\"無血壓資料之mean_squared_error:\",nobp)"
   ]
  },
  {
   "cell_type": "code",
   "execution_count": 12,
   "metadata": {},
   "outputs": [
    {
     "name": "stdout",
     "output_type": "stream",
     "text": [
      "由上面分析我們發現無血壓資料之mean_squared_error相較於含血壓資料之mean_squared_error高了613.944852\n",
      "因此我給出“Average blood pressure” is an important factor for diabetes disease!的結論\n"
     ]
    }
   ],
   "source": [
    "print(\"由上面分析我們發現無血壓資料之mean_squared_error相較於含血壓資料之mean_squared_error高了%f\"%(nobp-havebp))\n",
    "print(\"因此我給出“Average blood pressure” is an important factor for diabetes disease!的結論\")"
   ]
  },
  {
   "cell_type": "code",
   "execution_count": 13,
   "metadata": {},
   "outputs": [],
   "source": [
    "ry=model.predict(X)\n",
    "ry=np.squeeze(ry)"
   ]
  },
  {
   "cell_type": "code",
   "execution_count": 14,
   "metadata": {},
   "outputs": [
    {
     "name": "stdout",
     "output_type": "stream",
     "text": [
      "data X:residual plot\n"
     ]
    },
    {
     "data": {
      "image/png": "[encoded data removed]",
      "text/plain": [
       "<Figure size 432x288 with 1 Axes>"
      ]
     },
     "metadata": {
      "needs_background": "light"
     },
     "output_type": "display_data"
    }
   ],
   "source": [
    "print(\"data X:residual plot\")\n",
    "ty=np.zeros_like(ry)\n",
    "plt.plot(ry,y-ry,'+')\n",
    "plt.plot(ry,ty,color='r')\n",
    "plt.show()"
   ]
  },
  {
   "cell_type": "code",
   "execution_count": 15,
   "metadata": {
    "scrolled": true
   },
   "outputs": [
    {
     "name": "stdout",
     "output_type": "stream",
     "text": [
      "Trial 3 Complete [00h 00m 03s]\n",
      "val_loss: 2070.43115234375\n",
      "\n",
      "Best val_loss So Far: 2070.43115234375\n",
      "Total elapsed time: 00h 00m 38s\n",
      "INFO:tensorflow:Oracle triggered exit\n",
      "Epoch 1/13\n",
      "14/14 [==============================] - 0s 921us/step - loss: 11596.9443 - mean_squared_error: 11596.9443\n",
      "Epoch 2/13\n",
      "14/14 [==============================] - 0s 844us/step - loss: 5158.1851 - mean_squared_error: 5158.1851\n",
      "Epoch 3/13\n",
      "14/14 [==============================] - 0s 921us/step - loss: 3813.8467 - mean_squared_error: 3813.8467\n",
      "Epoch 4/13\n",
      "14/14 [==============================] - 0s 921us/step - loss: 3612.4714 - mean_squared_error: 3612.4714\n",
      "Epoch 5/13\n",
      "14/14 [==============================] - 0s 846us/step - loss: 3647.5332 - mean_squared_error: 3647.5332\n",
      "Epoch 6/13\n",
      "14/14 [==============================] - 0s 922us/step - loss: 3403.8677 - mean_squared_error: 3403.8677\n",
      "Epoch 7/13\n",
      "14/14 [==============================] - 0s 921us/step - loss: 3279.8450 - mean_squared_error: 3279.8450\n",
      "Epoch 8/13\n",
      "14/14 [==============================] - 0s 872us/step - loss: 3330.6726 - mean_squared_error: 3330.6726\n",
      "Epoch 9/13\n",
      "14/14 [==============================] - 0s 923us/step - loss: 3515.0293 - mean_squared_error: 3515.0293\n",
      "Epoch 10/13\n",
      "14/14 [==============================] - 0s 844us/step - loss: 3405.1868 - mean_squared_error: 3405.1868\n",
      "Epoch 11/13\n",
      "14/14 [==============================] - 0s 876us/step - loss: 3252.2981 - mean_squared_error: 3252.2981\n",
      "Epoch 12/13\n",
      "14/14 [==============================] - 0s 921us/step - loss: 3414.7593 - mean_squared_error: 3414.7593\n",
      "Epoch 13/13\n",
      "14/14 [==============================] - 0s 876us/step - loss: 3107.0142 - mean_squared_error: 3107.0142\n",
      "INFO:tensorflow:Assets written to: .\\structured_data_regressor\\best_model\\assets\n",
      "14/14 [==============================] - 0s 994us/step\n"
     ]
    }
   ],
   "source": [
    "import autokeras as ak\n",
    "reg = ak.StructuredDataRegressor(overwrite=True,max_trials=3)\n",
    "reg.fit(X,y)\n",
    "predicted_y = reg.predict(X)"
   ]
  },
  {
   "cell_type": "code",
   "execution_count": 16,
   "metadata": {},
   "outputs": [
    {
     "name": "stdout",
     "output_type": "stream",
     "text": [
      "使用autokeras所得到之結果\n",
      "[[218.55995 ]\n",
      " [ 50.20132 ]\n",
      " [181.436   ]\n",
      " [191.45316 ]\n",
      " [ 95.112564]\n",
      " [112.515114]\n",
      " [ 44.815174]\n",
      " [126.16151 ]\n",
      " [155.78363 ]\n",
      " [207.39713 ]\n",
      " [117.79388 ]\n",
      " [ 89.04478 ]\n",
      " [ 77.88424 ]\n",
      " [142.554   ]\n",
      " [ 74.77306 ]\n",
      " [156.55151 ]\n",
      " [199.14221 ]\n",
      " [193.8265  ]\n",
      " [141.24445 ]\n",
      " [103.63729 ]\n",
      " [113.81107 ]\n",
      " [ 48.348278]\n",
      " [123.30466 ]\n",
      " [292.30707 ]\n",
      " [158.6974  ]\n",
      " [122.45029 ]\n",
      " [105.976555]\n",
      " [154.64078 ]\n",
      " [115.58213 ]\n",
      " [237.28299 ]\n",
      " [144.95003 ]\n",
      " [ 63.708324]\n",
      " [268.87347 ]\n",
      " [ 79.824196]\n",
      " [ 70.74201 ]\n",
      " [119.7439  ]\n",
      " [195.22629 ]\n",
      " [125.009605]\n",
      " [260.79083 ]\n",
      " [115.51725 ]\n",
      " [160.22327 ]\n",
      " [114.66308 ]\n",
      " [119.39765 ]\n",
      " [ 98.48675 ]\n",
      " [223.36028 ]\n",
      " [ 97.99125 ]\n",
      " [149.23088 ]\n",
      " [138.99985 ]\n",
      " [ 82.8528  ]\n",
      " [157.56786 ]\n",
      " [130.7888  ]\n",
      " [162.84389 ]\n",
      " [123.08077 ]\n",
      " [127.52119 ]\n",
      " [124.69632 ]\n",
      " [ 61.718597]\n",
      " [195.39722 ]\n",
      " [ 66.837135]\n",
      " [103.91117 ]\n",
      " [146.79681 ]\n",
      " [ 92.68435 ]\n",
      " [162.09637 ]\n",
      " [ 35.564022]\n",
      " [125.64468 ]\n",
      " [128.85213 ]\n",
      " [155.50311 ]\n",
      " [132.99387 ]\n",
      " [107.81907 ]\n",
      " [ 99.36837 ]\n",
      " [108.96043 ]\n",
      " [ 71.3108  ]\n",
      " [247.96826 ]\n",
      " [166.03317 ]\n",
      " [ 92.363396]\n",
      " [167.55685 ]\n",
      " [100.032845]\n",
      " [191.27214 ]\n",
      " [116.679146]\n",
      " [182.99092 ]\n",
      " [131.42899 ]\n",
      " [158.88924 ]\n",
      " [ 90.20164 ]\n",
      " [ 46.063816]\n",
      " [144.1749  ]\n",
      " [ 68.29528 ]\n",
      " [154.08412 ]\n",
      " [ 56.838135]\n",
      " [147.32608 ]\n",
      " [ 79.48108 ]\n",
      " [ 86.96967 ]\n",
      " [ 58.408802]\n",
      " [172.9124  ]\n",
      " [169.08688 ]\n",
      " [ 70.931465]\n",
      " [100.86523 ]\n",
      " [161.49257 ]\n",
      " [212.86856 ]\n",
      " [223.82443 ]\n",
      " [104.235085]\n",
      " [121.3735  ]\n",
      " [147.88927 ]\n",
      " [104.04421 ]\n",
      " [158.3617  ]\n",
      " [165.13242 ]\n",
      " [136.68848 ]\n",
      " [100.07299 ]\n",
      " [115.29376 ]\n",
      " [148.33923 ]\n",
      " [228.21176 ]\n",
      " [155.23186 ]\n",
      " [ 55.766296]\n",
      " [ 88.90421 ]\n",
      " [159.28528 ]\n",
      " [219.58987 ]\n",
      " [315.68686 ]\n",
      " [159.91628 ]\n",
      " [227.96048 ]\n",
      " [261.06116 ]\n",
      " [153.2489  ]\n",
      " [121.73419 ]\n",
      " [140.44357 ]\n",
      " [183.00394 ]\n",
      " [235.43596 ]\n",
      " [197.13359 ]\n",
      " [133.81339 ]\n",
      " [173.64389 ]\n",
      " [ 82.92523 ]\n",
      " [110.610344]\n",
      " [ 92.22853 ]\n",
      " [227.40178 ]\n",
      " [267.20596 ]\n",
      " [118.30363 ]\n",
      " [ 93.194756]\n",
      " [ 55.107117]\n",
      " [134.13731 ]\n",
      " [247.71571 ]\n",
      " [ 84.32754 ]\n",
      " [234.12828 ]\n",
      " [297.52887 ]\n",
      " [257.14087 ]\n",
      " [148.66367 ]\n",
      " [283.80908 ]\n",
      " [184.51227 ]\n",
      " [ 90.19607 ]\n",
      " [165.80238 ]\n",
      " [258.46317 ]\n",
      " [177.00665 ]\n",
      " [224.9163  ]\n",
      " [ 86.50526 ]\n",
      " [153.4785  ]\n",
      " [201.46489 ]\n",
      " [102.2076  ]\n",
      " [197.25786 ]\n",
      " [106.486   ]\n",
      " [154.86876 ]\n",
      " [208.80444 ]\n",
      " [111.92338 ]\n",
      " [ 95.29797 ]\n",
      " [ 98.681725]\n",
      " [241.69223 ]\n",
      " [ 82.43694 ]\n",
      " [252.32343 ]\n",
      " [136.6126  ]\n",
      " [212.07776 ]\n",
      " [120.15421 ]\n",
      " [ 68.36248 ]\n",
      " [ 61.86682 ]\n",
      " [280.17682 ]\n",
      " [241.87215 ]\n",
      " [208.89613 ]\n",
      " [ 41.469013]\n",
      " [ 97.26373 ]\n",
      " [248.88104 ]\n",
      " [ 69.35351 ]\n",
      " [161.1011  ]\n",
      " [101.50742 ]\n",
      " [157.87651 ]\n",
      " [216.48444 ]\n",
      " [ 67.64676 ]\n",
      " [157.08846 ]\n",
      " [152.50604 ]\n",
      " [ 69.7114  ]\n",
      " [168.3999  ]\n",
      " [159.5231  ]\n",
      " [195.19943 ]\n",
      " [160.13673 ]\n",
      " [165.56091 ]\n",
      " [ 74.66837 ]\n",
      " [143.16982 ]\n",
      " [ 84.38645 ]\n",
      " [173.31525 ]\n",
      " [115.56921 ]\n",
      " [ 89.097725]\n",
      " [122.0149  ]\n",
      " [137.63654 ]\n",
      " [164.49539 ]\n",
      " [ 92.54779 ]\n",
      " [189.19974 ]\n",
      " [148.02759 ]\n",
      " [151.35193 ]\n",
      " [ 90.09583 ]\n",
      " [ 43.912518]\n",
      " [195.316   ]\n",
      " [184.04512 ]\n",
      " [205.13153 ]\n",
      " [207.40558 ]\n",
      " [138.95416 ]\n",
      " [204.89543 ]\n",
      " [231.24649 ]\n",
      " [158.39905 ]\n",
      " [121.946175]\n",
      " [160.25443 ]\n",
      " [138.34695 ]\n",
      " [ 81.56868 ]\n",
      " [ 68.03652 ]\n",
      " [310.28372 ]\n",
      " [207.61374 ]\n",
      " [231.39891 ]\n",
      " [151.42741 ]\n",
      " [136.59348 ]\n",
      " [ 55.66556 ]\n",
      " [147.39919 ]\n",
      " [130.38773 ]\n",
      " [143.44037 ]\n",
      " [ 95.02263 ]\n",
      " [235.79016 ]\n",
      " [ 43.346222]\n",
      " [129.96829 ]\n",
      " [122.12389 ]\n",
      " [ 67.82246 ]\n",
      " [199.76102 ]\n",
      " [122.43857 ]\n",
      " [139.44171 ]\n",
      " [105.625244]\n",
      " [229.51376 ]\n",
      " [174.81148 ]\n",
      " [162.06528 ]\n",
      " [ 63.50592 ]\n",
      " [174.3454  ]\n",
      " [167.47916 ]\n",
      " [257.41037 ]\n",
      " [117.89451 ]\n",
      " [ 66.82613 ]\n",
      " [ 69.44371 ]\n",
      " [110.63804 ]\n",
      " [100.41544 ]\n",
      " [110.969215]\n",
      " [ 84.01046 ]\n",
      " [247.28825 ]\n",
      " [239.4336  ]\n",
      " [283.07562 ]\n",
      " [281.7984  ]\n",
      " [160.62589 ]\n",
      " [202.80676 ]\n",
      " [285.68146 ]\n",
      " [ 85.289085]\n",
      " [272.36224 ]\n",
      " [ 68.77846 ]\n",
      " [132.2585  ]\n",
      " [115.73524 ]\n",
      " [ 57.744724]\n",
      " [144.7342  ]\n",
      " [301.8623  ]\n",
      " [ 41.73563 ]\n",
      " [117.46992 ]\n",
      " [ 96.61848 ]\n",
      " [ 34.356686]\n",
      " [131.95923 ]\n",
      " [269.05408 ]\n",
      " [ 86.370384]\n",
      " [198.2576  ]\n",
      " [153.11562 ]\n",
      " [154.22104 ]\n",
      " [208.43442 ]\n",
      " [148.33786 ]\n",
      " [137.75446 ]\n",
      " [214.86813 ]\n",
      " [ 75.04987 ]\n",
      " [124.42565 ]\n",
      " [106.38099 ]\n",
      " [153.39233 ]\n",
      " [ 83.77074 ]\n",
      " [125.59451 ]\n",
      " [ 70.58059 ]\n",
      " [149.44884 ]\n",
      " [189.68546 ]\n",
      " [ 56.886475]\n",
      " [144.22624 ]\n",
      " [ 81.828575]\n",
      " [168.69641 ]\n",
      " [243.82997 ]\n",
      " [208.2424  ]\n",
      " [ 60.36305 ]\n",
      " [181.17451 ]\n",
      " [ 65.92546 ]\n",
      " [133.00488 ]\n",
      " [ 60.67126 ]\n",
      " [ 84.05147 ]\n",
      " [110.92089 ]\n",
      " [104.04998 ]\n",
      " [212.12263 ]\n",
      " [ 99.302155]\n",
      " [185.15472 ]\n",
      " [246.11899 ]\n",
      " [114.693886]\n",
      " [118.26382 ]\n",
      " [111.78357 ]\n",
      " [159.67705 ]\n",
      " [ 69.61595 ]\n",
      " [139.75146 ]\n",
      " [187.26024 ]\n",
      " [162.78772 ]\n",
      " [120.722534]\n",
      " [231.4812  ]\n",
      " [149.78236 ]\n",
      " [ 89.95631 ]\n",
      " [187.12543 ]\n",
      " [169.67807 ]\n",
      " [149.02911 ]\n",
      " [162.14897 ]\n",
      " [181.2339  ]\n",
      " [281.99506 ]\n",
      " [281.91116 ]\n",
      " [229.05092 ]\n",
      " [186.14656 ]\n",
      " [221.54788 ]\n",
      " [146.80916 ]\n",
      " [230.85101 ]\n",
      " [163.10152 ]\n",
      " [ 82.803085]\n",
      " [159.31476 ]\n",
      " [124.3751  ]\n",
      " [314.73444 ]\n",
      " [170.56433 ]\n",
      " [ 56.474724]\n",
      " [ 56.58196 ]\n",
      " [260.08298 ]\n",
      " [154.74043 ]\n",
      " [150.23985 ]\n",
      " [135.60489 ]\n",
      " [155.94395 ]\n",
      " [197.50127 ]\n",
      " [168.95445 ]\n",
      " [136.29156 ]\n",
      " [187.91779 ]\n",
      " [120.67549 ]\n",
      " [185.6229  ]\n",
      " [ 85.24916 ]\n",
      " [ 86.27543 ]\n",
      " [112.23296 ]\n",
      " [285.80814 ]\n",
      " [ 58.883564]\n",
      " [ 57.894936]\n",
      " [162.44812 ]\n",
      " [208.71976 ]\n",
      " [ 89.63896 ]\n",
      " [ 57.662785]\n",
      " [203.34315 ]\n",
      " [ 56.25819 ]\n",
      " [165.16882 ]\n",
      " [173.60294 ]\n",
      " [102.14774 ]\n",
      " [265.954   ]\n",
      " [134.03403 ]\n",
      " [158.63306 ]\n",
      " [175.48067 ]\n",
      " [255.6636  ]\n",
      " [288.3847  ]\n",
      " [187.7848  ]\n",
      " [174.68048 ]\n",
      " [ 44.03538 ]\n",
      " [209.62653 ]\n",
      " [ 62.149788]\n",
      " [131.95207 ]\n",
      " [153.87704 ]\n",
      " [190.99731 ]\n",
      " [208.42545 ]\n",
      " [157.36697 ]\n",
      " [147.46764 ]\n",
      " [113.08215 ]\n",
      " [149.22615 ]\n",
      " [ 77.182144]\n",
      " [267.38602 ]\n",
      " [ 93.51022 ]\n",
      " [108.72714 ]\n",
      " [128.69913 ]\n",
      " [ 70.696846]\n",
      " [126.96228 ]\n",
      " [157.12408 ]\n",
      " [ 62.813644]\n",
      " [287.9148  ]\n",
      " [ 68.12714 ]\n",
      " [ 83.664246]\n",
      " [111.39467 ]\n",
      " [263.83524 ]\n",
      " [158.88202 ]\n",
      " [ 37.361496]\n",
      " [172.22731 ]\n",
      " [165.83174 ]\n",
      " [208.12161 ]\n",
      " [161.45357 ]\n",
      " [ 79.38833 ]\n",
      " [162.32764 ]\n",
      " [254.86337 ]\n",
      " [188.9073  ]\n",
      " [342.20746 ]\n",
      " [ 82.37338 ]\n",
      " [153.31912 ]\n",
      " [195.11447 ]\n",
      " [149.77724 ]\n",
      " [143.66592 ]\n",
      " [130.70259 ]\n",
      " [241.52936 ]\n",
      " [110.801994]\n",
      " [167.59369 ]\n",
      " [158.75241 ]\n",
      " [230.60715 ]\n",
      " [140.77425 ]\n",
      " [ 97.382454]\n",
      " [ 78.719154]\n",
      " [152.71027 ]\n",
      " [182.20245 ]\n",
      " [225.77599 ]\n",
      " [130.32582 ]\n",
      " [147.54893 ]\n",
      " [111.652084]\n",
      " [162.32396 ]\n",
      " [100.7396  ]\n",
      " [311.94373 ]\n",
      " [ 87.73523 ]\n",
      " [129.10617 ]\n",
      " [131.56168 ]\n",
      " [223.5574  ]\n",
      " [ 52.404327]\n",
      " [ 95.922325]\n",
      " [111.46154 ]\n",
      " [ 52.08843 ]\n",
      " [202.46666 ]\n",
      " [ 96.657936]\n",
      " [109.66004 ]\n",
      " [197.29967 ]\n",
      " [ 68.88725 ]]\n"
     ]
    }
   ],
   "source": [
    "print(\"使用autokeras所得到之結果\")\n",
    "print(predicted_y)"
   ]
  },
  {
   "cell_type": "code",
   "execution_count": 17,
   "metadata": {},
   "outputs": [
    {
     "data": {
      "text/plain": [
       "<function matplotlib.pyplot.show(close=None, block=None)>"
      ]
     },
     "execution_count": 17,
     "metadata": {},
     "output_type": "execute_result"
    },
    {
     "data": {
      "image/png": "[encoded data removed]",
      "text/plain": [
       "<Figure size 432x288 with 1 Axes>"
      ]
     },
     "metadata": {
      "needs_background": "light"
     },
     "output_type": "display_data"
    }
   ],
   "source": [
    "plt.scatter(y,predicted_y)\n",
    "plt.show"
   ]
  },
  {
   "cell_type": "code",
   "execution_count": 18,
   "metadata": {},
   "outputs": [
    {
     "name": "stdout",
     "output_type": "stream",
     "text": [
      "使用autokeras 並採用data X的residual plot\n"
     ]
    },
    {
     "data": {
      "image/png": "[encoded data removed]",
      "text/plain": [
       "<Figure size 432x288 with 1 Axes>"
      ]
     },
     "metadata": {
      "needs_background": "light"
     },
     "output_type": "display_data"
    }
   ],
   "source": [
    "print(\"使用autokeras 並採用data X的residual plot\")\n",
    "predicted_y=np.squeeze(predicted_y)\n",
    "nty=np.zeros_like(predicted_y)\n",
    "plt.plot(predicted_y,y-predicted_y,'+')\n",
    "plt.plot(predicted_y,nty,color='r')\n",
    "plt.show()"
   ]
  },
  {
   "cell_type": "code",
   "execution_count": null,
   "metadata": {},
   "outputs": [],
   "source": []
  }
 ],
 "metadata": {
  "kernelspec": {
   "display_name": "tf24",
   "language": "python",
   "name": "tf24"
  },
  "language_info": {
   "codemirror_mode": {
    "name": "ipython",
    "version": 3
   },
   "file_extension": ".py",
   "mimetype": "text/x-python",
   "name": "python",
   "nbconvert_exporter": "python",
   "pygments_lexer": "ipython3",
   "version": "3.8.5"
  }
 },
 "nbformat": 4,
 "nbformat_minor": 2
}
